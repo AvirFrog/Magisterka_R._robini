{
 "cells": [
  {
   "cell_type": "code",
   "execution_count": 1,
   "id": "952172c8-0dfa-4e8c-9e09-c111ec3eb26d",
   "metadata": {
    "tags": []
   },
   "outputs": [],
   "source": [
    "import pandas as pd\n",
    "import seaborn as sns\n",
    "import numpy as np\n",
    "import matplotlib.pyplot as plt\n",
    "import seaborn.objects as so\n",
    "from scipy import stats"
   ]
  },
  {
   "cell_type": "code",
   "execution_count": 2,
   "id": "c86de7a3-6c42-4660-8f66-d75a049e7953",
   "metadata": {
    "tags": []
   },
   "outputs": [],
   "source": [
    "samples = [\"FN1_14084_TAGCTT\", \"FN2_14085_GGCTAC\", \"FN3_14086_CTTGTA\", \"FN4_14087_GTGAAA\", \"FW1_14080_ATCACG\", \"FW2_14081_ACAGTG\", \"FW3_14082_GCCAAT\", \"FW4_14083_ACTTGA\"]"
   ]
  },
  {
   "cell_type": "code",
   "execution_count": 3,
   "id": "a2431df1-d654-4e70-8cd8-ad06f96ed2dd",
   "metadata": {
    "tags": []
   },
   "outputs": [],
   "source": [
    "def piekne_wykresy(samples, measure):\n",
    "    df_mean = []\n",
    "    for i in samples:\n",
    "        read_file = pd.read_csv(f'Popoolation1\\syn_nonsyn_sliding_{measure}\\{i}.{measure}', sep='\\t', header=None, names=['ref_contig', \n",
    "                                                                                                                        'window_pos', \n",
    "                                                                                                                        'codons_found_in_window',\n",
    "                                                                                                                        'codon_used_in_analysis', \n",
    "                                                                                                                        'codons_contain_SNP', \n",
    "                                                                                                                        'raction_of_the_window', \n",
    "                                                                                                                        'sum+of_non_synonymous',\n",
    "                                                                                                                        'sum_of_synonymous',\n",
    "                                                                                                                        'number_of_nonsynonymous_SNPs',\n",
    "                                                                                                                        'number_of_synonymous_SNPs',\n",
    "                                                                                                                        f'{measure}_nonsyn',\n",
    "                                                                                                                        f'{measure}_syn',])\n",
    "\n",
    "        #change na to NaN\n",
    "        read_file = read_file.replace('na', np.NaN)\n",
    "\n",
    "        #droping na values\n",
    "        read_file.dropna(inplace=True)\n",
    "\n",
    "        read_file[f'{measure}_nonsyn'] = read_file[f'{measure}_nonsyn'].astype(float)\n",
    "        read_file[f'{measure}_syn'] = read_file[f'{measure}_syn'].astype(float)\n",
    "\n",
    "        #print(read_file.dtypes)\n",
    "\n",
    "        mean = read_file[[f'{measure}_nonsyn', f'{measure}_syn']].mean()\n",
    "        name = i.split('_')[0]\n",
    "        df_mean.append([name, round(mean[0], 4), round(mean[1], 4)])\n",
    "\n",
    "    df_mean = pd.DataFrame(df_mean, columns=['sample', f'{measure}_nonsyn', f'{measure}_syn'])\n",
    "    df_mean['type'] = df_mean['sample'].str[:2]\n",
    "    df_mean.set_index('sample', inplace=True)\n",
    "\n",
    "    return df_mean"
   ]
  },
  {
   "cell_type": "code",
   "execution_count": 4,
   "id": "1c67a2b8-7a54-4afd-b80a-c6c6419743c4",
   "metadata": {
    "tags": []
   },
   "outputs": [],
   "source": [
    "df_pi = piekne_wykresy(samples, 'pi')\n",
    "df_theta = piekne_wykresy(samples, 'theta')"
   ]
  },
  {
   "cell_type": "code",
   "execution_count": 5,
   "id": "c235cf7f-570a-4dc7-8fc4-95c31af38687",
   "metadata": {
    "tags": []
   },
   "outputs": [
    {
     "data": {
      "text/html": [
       "<div>\n",
       "<style scoped>\n",
       "    .dataframe tbody tr th:only-of-type {\n",
       "        vertical-align: middle;\n",
       "    }\n",
       "\n",
       "    .dataframe tbody tr th {\n",
       "        vertical-align: top;\n",
       "    }\n",
       "\n",
       "    .dataframe thead th {\n",
       "        text-align: right;\n",
       "    }\n",
       "</style>\n",
       "<table border=\"1\" class=\"dataframe\">\n",
       "  <thead>\n",
       "    <tr style=\"text-align: right;\">\n",
       "      <th></th>\n",
       "      <th>pi_nonsyn</th>\n",
       "      <th>pi_syn</th>\n",
       "      <th>type</th>\n",
       "    </tr>\n",
       "    <tr>\n",
       "      <th>sample</th>\n",
       "      <th></th>\n",
       "      <th></th>\n",
       "      <th></th>\n",
       "    </tr>\n",
       "  </thead>\n",
       "  <tbody>\n",
       "    <tr>\n",
       "      <th>FN1</th>\n",
       "      <td>0.0094</td>\n",
       "      <td>0.0424</td>\n",
       "      <td>FN</td>\n",
       "    </tr>\n",
       "    <tr>\n",
       "      <th>FN2</th>\n",
       "      <td>0.0098</td>\n",
       "      <td>0.0442</td>\n",
       "      <td>FN</td>\n",
       "    </tr>\n",
       "    <tr>\n",
       "      <th>FN3</th>\n",
       "      <td>0.0094</td>\n",
       "      <td>0.0425</td>\n",
       "      <td>FN</td>\n",
       "    </tr>\n",
       "    <tr>\n",
       "      <th>FN4</th>\n",
       "      <td>0.0103</td>\n",
       "      <td>0.0460</td>\n",
       "      <td>FN</td>\n",
       "    </tr>\n",
       "    <tr>\n",
       "      <th>FW1</th>\n",
       "      <td>0.0084</td>\n",
       "      <td>0.0386</td>\n",
       "      <td>FW</td>\n",
       "    </tr>\n",
       "    <tr>\n",
       "      <th>FW2</th>\n",
       "      <td>0.0092</td>\n",
       "      <td>0.0423</td>\n",
       "      <td>FW</td>\n",
       "    </tr>\n",
       "    <tr>\n",
       "      <th>FW3</th>\n",
       "      <td>0.0089</td>\n",
       "      <td>0.0411</td>\n",
       "      <td>FW</td>\n",
       "    </tr>\n",
       "    <tr>\n",
       "      <th>FW4</th>\n",
       "      <td>0.0085</td>\n",
       "      <td>0.0402</td>\n",
       "      <td>FW</td>\n",
       "    </tr>\n",
       "  </tbody>\n",
       "</table>\n",
       "</div>"
      ],
      "text/plain": [
       "        pi_nonsyn  pi_syn type\n",
       "sample                        \n",
       "FN1        0.0094  0.0424   FN\n",
       "FN2        0.0098  0.0442   FN\n",
       "FN3        0.0094  0.0425   FN\n",
       "FN4        0.0103  0.0460   FN\n",
       "FW1        0.0084  0.0386   FW\n",
       "FW2        0.0092  0.0423   FW\n",
       "FW3        0.0089  0.0411   FW\n",
       "FW4        0.0085  0.0402   FW"
      ]
     },
     "execution_count": 5,
     "metadata": {},
     "output_type": "execute_result"
    }
   ],
   "source": [
    "df_pi"
   ]
  },
  {
   "cell_type": "code",
   "execution_count": 6,
   "id": "43998a41-f779-4cf6-a558-4dcbee245bb6",
   "metadata": {
    "tags": []
   },
   "outputs": [
    {
     "data": {
      "text/html": [
       "<div>\n",
       "<style scoped>\n",
       "    .dataframe tbody tr th:only-of-type {\n",
       "        vertical-align: middle;\n",
       "    }\n",
       "\n",
       "    .dataframe tbody tr th {\n",
       "        vertical-align: top;\n",
       "    }\n",
       "\n",
       "    .dataframe thead th {\n",
       "        text-align: right;\n",
       "    }\n",
       "</style>\n",
       "<table border=\"1\" class=\"dataframe\">\n",
       "  <thead>\n",
       "    <tr style=\"text-align: right;\">\n",
       "      <th></th>\n",
       "      <th>theta_nonsyn</th>\n",
       "      <th>theta_syn</th>\n",
       "      <th>type</th>\n",
       "    </tr>\n",
       "    <tr>\n",
       "      <th>sample</th>\n",
       "      <th></th>\n",
       "      <th></th>\n",
       "      <th></th>\n",
       "    </tr>\n",
       "  </thead>\n",
       "  <tbody>\n",
       "    <tr>\n",
       "      <th>FN1</th>\n",
       "      <td>0.0090</td>\n",
       "      <td>0.0387</td>\n",
       "      <td>FN</td>\n",
       "    </tr>\n",
       "    <tr>\n",
       "      <th>FN2</th>\n",
       "      <td>0.0096</td>\n",
       "      <td>0.0413</td>\n",
       "      <td>FN</td>\n",
       "    </tr>\n",
       "    <tr>\n",
       "      <th>FN3</th>\n",
       "      <td>0.0091</td>\n",
       "      <td>0.0395</td>\n",
       "      <td>FN</td>\n",
       "    </tr>\n",
       "    <tr>\n",
       "      <th>FN4</th>\n",
       "      <td>0.0100</td>\n",
       "      <td>0.0424</td>\n",
       "      <td>FN</td>\n",
       "    </tr>\n",
       "    <tr>\n",
       "      <th>FW1</th>\n",
       "      <td>0.0080</td>\n",
       "      <td>0.0353</td>\n",
       "      <td>FW</td>\n",
       "    </tr>\n",
       "    <tr>\n",
       "      <th>FW2</th>\n",
       "      <td>0.0091</td>\n",
       "      <td>0.0400</td>\n",
       "      <td>FW</td>\n",
       "    </tr>\n",
       "    <tr>\n",
       "      <th>FW3</th>\n",
       "      <td>0.0085</td>\n",
       "      <td>0.0378</td>\n",
       "      <td>FW</td>\n",
       "    </tr>\n",
       "    <tr>\n",
       "      <th>FW4</th>\n",
       "      <td>0.0082</td>\n",
       "      <td>0.0373</td>\n",
       "      <td>FW</td>\n",
       "    </tr>\n",
       "  </tbody>\n",
       "</table>\n",
       "</div>"
      ],
      "text/plain": [
       "        theta_nonsyn  theta_syn type\n",
       "sample                              \n",
       "FN1           0.0090     0.0387   FN\n",
       "FN2           0.0096     0.0413   FN\n",
       "FN3           0.0091     0.0395   FN\n",
       "FN4           0.0100     0.0424   FN\n",
       "FW1           0.0080     0.0353   FW\n",
       "FW2           0.0091     0.0400   FW\n",
       "FW3           0.0085     0.0378   FW\n",
       "FW4           0.0082     0.0373   FW"
      ]
     },
     "execution_count": 6,
     "metadata": {},
     "output_type": "execute_result"
    }
   ],
   "source": [
    "df_theta"
   ]
  },
  {
   "cell_type": "code",
   "execution_count": 5,
   "id": "c4596793-f5af-4862-a74c-bf0d86982f8f",
   "metadata": {
    "tags": []
   },
   "outputs": [
    {
     "data": {
      "image/png": "[encoded data removed]",
      "text/plain": [
       "<Figure size 640x480 with 4 Axes>"
      ]
     },
     "metadata": {},
     "output_type": "display_data"
    }
   ],
   "source": [
    "sns.set_theme(style=\"whitegrid\")\n",
    "sns.set_context(\"paper\")\n",
    "\n",
    "fig, ax= plt.subplots(nrows=2, ncols=2)\n",
    "\n",
    "sns.boxplot(data=df_pi, x=\"type\", y=\"pi_nonsyn\", hue=\"type\", ax=ax[0, 0])\n",
    "ax[0, 0].set_title(\"π niesynonimowe i synonimowe\")\n",
    "ax[0, 0].set_xlabel(\"\")\n",
    "ax[0, 0].set_ylabel(\"π ns\")\n",
    "ax[0, 0].legend([],[], frameon=False)\n",
    "ax[0, 0].set(ylim=(0.0075, 0.0105))\n",
    "#ax[0, 0].set(ylim=(0.0075, 0.05))\n",
    "\n",
    "sns.boxplot(data=df_theta, x=\"type\", y=\"theta_nonsyn\", hue=\"type\", ax=ax[0, 1])\n",
    "ax[0, 1].set_title(\"θ niesynonimowe i synonimowe\")\n",
    "ax[0, 1].set_xlabel(\"\")\n",
    "ax[0, 1].set_ylabel(\"θ ns\")\n",
    "ax[0, 1].legend([],[], frameon=False)\n",
    "ax[0, 1].set(ylim=(0.0075, 0.0105))\n",
    "#ax[0, 1].set(ylim=(0.0075, 0.05))\n",
    "\n",
    "sns.boxplot(data=df_pi, x=\"type\", y=\"pi_syn\", hue=\"type\", ax=ax[1, 0])\n",
    "ax[1, 0].set_xlabel(\"\")\n",
    "ax[1, 0].set_ylabel(\"π s\")\n",
    "ax[1, 0].legend([],[], frameon=False)\n",
    "ax[1, 0].set(ylim=(0.034, 0.048))\n",
    "#ax[1, 0].set(ylim=(0.0075, 0.05))\n",
    "\n",
    "sns.boxplot(data=df_theta, x=\"type\", y=\"theta_syn\", hue=\"type\", ax=ax[1, 1])\n",
    "ax[1, 1].set_xlabel(\"\")\n",
    "ax[1, 1].set_ylabel(\"θ s\")\n",
    "ax[1, 1].legend([],[], frameon=False)\n",
    "ax[1, 1].set(ylim=(0.034, 0.048))\n",
    "#ax[1, 1].set(ylim=(0.0075, 0.05))\n",
    "\n",
    "fig.tight_layout()\n",
    "plt.show()\n",
    "fig.savefig(f'Popoolation1\\syn_nonsyn_sliding_pi_theta.png', dpi=500)"
   ]
  },
  {
   "cell_type": "code",
   "execution_count": 6,
   "id": "9aeb8395-386c-4d26-ab23-5abaada4ba24",
   "metadata": {
    "tags": []
   },
   "outputs": [
    {
     "data": {
      "text/html": [
       "<div>\n",
       "<style scoped>\n",
       "    .dataframe tbody tr th:only-of-type {\n",
       "        vertical-align: middle;\n",
       "    }\n",
       "\n",
       "    .dataframe tbody tr th {\n",
       "        vertical-align: top;\n",
       "    }\n",
       "\n",
       "    .dataframe thead th {\n",
       "        text-align: right;\n",
       "    }\n",
       "</style>\n",
       "<table border=\"1\" class=\"dataframe\">\n",
       "  <thead>\n",
       "    <tr style=\"text-align: right;\">\n",
       "      <th></th>\n",
       "      <th>theta_nonsyn</th>\n",
       "      <th>theta_syn</th>\n",
       "      <th>type</th>\n",
       "    </tr>\n",
       "    <tr>\n",
       "      <th>sample</th>\n",
       "      <th></th>\n",
       "      <th></th>\n",
       "      <th></th>\n",
       "    </tr>\n",
       "  </thead>\n",
       "  <tbody>\n",
       "    <tr>\n",
       "      <th>FN1</th>\n",
       "      <td>0.0090</td>\n",
       "      <td>0.0387</td>\n",
       "      <td>FN</td>\n",
       "    </tr>\n",
       "    <tr>\n",
       "      <th>FN2</th>\n",
       "      <td>0.0096</td>\n",
       "      <td>0.0413</td>\n",
       "      <td>FN</td>\n",
       "    </tr>\n",
       "    <tr>\n",
       "      <th>FN3</th>\n",
       "      <td>0.0091</td>\n",
       "      <td>0.0395</td>\n",
       "      <td>FN</td>\n",
       "    </tr>\n",
       "    <tr>\n",
       "      <th>FN4</th>\n",
       "      <td>0.0100</td>\n",
       "      <td>0.0424</td>\n",
       "      <td>FN</td>\n",
       "    </tr>\n",
       "    <tr>\n",
       "      <th>FW1</th>\n",
       "      <td>0.0080</td>\n",
       "      <td>0.0353</td>\n",
       "      <td>FW</td>\n",
       "    </tr>\n",
       "    <tr>\n",
       "      <th>FW2</th>\n",
       "      <td>0.0091</td>\n",
       "      <td>0.0400</td>\n",
       "      <td>FW</td>\n",
       "    </tr>\n",
       "    <tr>\n",
       "      <th>FW3</th>\n",
       "      <td>0.0085</td>\n",
       "      <td>0.0378</td>\n",
       "      <td>FW</td>\n",
       "    </tr>\n",
       "    <tr>\n",
       "      <th>FW4</th>\n",
       "      <td>0.0082</td>\n",
       "      <td>0.0373</td>\n",
       "      <td>FW</td>\n",
       "    </tr>\n",
       "  </tbody>\n",
       "</table>\n",
       "</div>"
      ],
      "text/plain": [
       "        theta_nonsyn  theta_syn type\n",
       "sample                              \n",
       "FN1           0.0090     0.0387   FN\n",
       "FN2           0.0096     0.0413   FN\n",
       "FN3           0.0091     0.0395   FN\n",
       "FN4           0.0100     0.0424   FN\n",
       "FW1           0.0080     0.0353   FW\n",
       "FW2           0.0091     0.0400   FW\n",
       "FW3           0.0085     0.0378   FW\n",
       "FW4           0.0082     0.0373   FW"
      ]
     },
     "execution_count": 6,
     "metadata": {},
     "output_type": "execute_result"
    }
   ],
   "source": [
    "df_theta"
   ]
  },
  {
   "cell_type": "code",
   "execution_count": 7,
   "id": "99bde0a8-21ab-4b6f-8e51-1f6794f6b612",
   "metadata": {
    "tags": []
   },
   "outputs": [
    {
     "name": "stdout",
     "output_type": "stream",
     "text": [
      "Statystyka t: 3.4516428146760045\n",
      "P-wartość: 0.013605614666635886\n"
     ]
    }
   ],
   "source": [
    "#testy statystyczne\n",
    "\n",
    "#pi_nonsyn\n",
    "\n",
    "grupy = df_pi.groupby('type')\n",
    "FN = grupy.get_group('FN')['pi_nonsyn']\n",
    "FW = grupy.get_group('FW')['pi_nonsyn']\n",
    "\n",
    "statystyka, p_wartosc = stats.ttest_ind(FN, FW)\n",
    "\n",
    "# Wyświetlenie wyników\n",
    "print(\"Statystyka t:\", statystyka)\n",
    "print(\"P-wartość:\", p_wartosc)"
   ]
  },
  {
   "cell_type": "code",
   "execution_count": 8,
   "id": "32ff4d2e-cf86-45c5-9886-dc98bb75ac2c",
   "metadata": {
    "tags": []
   },
   "outputs": [
    {
     "name": "stdout",
     "output_type": "stream",
     "text": [
      "Statystyka t: 2.798402905860672\n",
      "P-wartość: 0.031229608001795656\n"
     ]
    }
   ],
   "source": [
    "#testy statystyczne\n",
    "\n",
    "#pi_syn\n",
    "\n",
    "grupy = df_pi.groupby('type')\n",
    "FN = grupy.get_group('FN')['pi_syn']\n",
    "FW = grupy.get_group('FW')['pi_syn']\n",
    "\n",
    "statystyka, p_wartosc = stats.ttest_ind(FN, FW)\n",
    "\n",
    "# Wyświetlenie wyników\n",
    "print(\"Statystyka t:\", statystyka)\n",
    "print(\"P-wartość:\", p_wartosc)"
   ]
  },
  {
   "cell_type": "code",
   "execution_count": 9,
   "id": "046ea359-816a-443a-9355-f8de0a7b579f",
   "metadata": {
    "tags": []
   },
   "outputs": [
    {
     "name": "stdout",
     "output_type": "stream",
     "text": [
      "Statystyka t: 2.9204403713510043\n",
      "P-wartość: 0.026616045101597253\n"
     ]
    }
   ],
   "source": [
    "#testy statystyczne\n",
    "\n",
    "#theta_nonsyn\n",
    "\n",
    "grupy = df_theta.groupby('type')\n",
    "FN = grupy.get_group('FN')['theta_nonsyn']\n",
    "FW = grupy.get_group('FW')['theta_nonsyn']\n",
    "\n",
    "statystyka, p_wartosc = stats.ttest_ind(FN, FW)\n",
    "\n",
    "# Wyświetlenie wyników\n",
    "print(\"Statystyka t:\", statystyka)\n",
    "print(\"P-wartość:\", p_wartosc)"
   ]
  },
  {
   "cell_type": "code",
   "execution_count": 10,
   "id": "69a4ca9c-acce-46ad-aa7e-b859a4f2bfa4",
   "metadata": {
    "tags": []
   },
   "outputs": [
    {
     "name": "stdout",
     "output_type": "stream",
     "text": [
      "Statystyka t: 2.2457111362974382\n",
      "P-wartość: 0.06582813696418355\n"
     ]
    }
   ],
   "source": [
    "#testy statystyczne\n",
    "\n",
    "#theta_nonsyn\n",
    "\n",
    "grupy = df_theta.groupby('type')\n",
    "FN = grupy.get_group('FN')['theta_syn']\n",
    "FW = grupy.get_group('FW')['theta_syn']\n",
    "\n",
    "statystyka, p_wartosc = stats.ttest_ind(FN, FW)\n",
    "\n",
    "# Wyświetlenie wyników\n",
    "print(\"Statystyka t:\", statystyka)\n",
    "print(\"P-wartość:\", p_wartosc)"
   ]
  }
 ],
 "metadata": {
  "kernelspec": {
   "display_name": "Python 3 (ipykernel)",
   "language": "python",
   "name": "python3"
  },
  "language_info": {
   "codemirror_mode": {
    "name": "ipython",
    "version": 3
   },
   "file_extension": ".py",
   "mimetype": "text/x-python",
   "name": "python",
   "nbconvert_exporter": "python",
   "pygments_lexer": "ipython3",
   "version": "3.10.8"
  }
 },
 "nbformat": 4,
 "nbformat_minor": 5
}
