{
 "cells": [
  {
   "cell_type": "code",
   "execution_count": 1,
   "id": "3ab81c9e-02a5-43d8-910f-64df51f6d981",
   "metadata": {
    "tags": []
   },
   "outputs": [],
   "source": [
    "import pandas as pd\n",
    "import seaborn as sns\n",
    "import numpy as np\n",
    "import matplotlib.pyplot as plt\n",
    "import seaborn.objects as so\n",
    "from scipy import stats"
   ]
  },
  {
   "cell_type": "code",
   "execution_count": 2,
   "id": "feb26d5e-b794-40d3-8156-30cafd021202",
   "metadata": {
    "tags": []
   },
   "outputs": [],
   "source": [
    "samples = [\"FN1_14084_TAGCTT\", \"FN2_14085_GGCTAC\", \"FN3_14086_CTTGTA\", \"FN4_14087_GTGAAA\", \"FW1_14080_ATCACG\", \"FW2_14081_ACAGTG\", \"FW3_14082_GCCAAT\", \"FW4_14083_ACTTGA\"]"
   ]
  },
  {
   "cell_type": "code",
   "execution_count": 3,
   "id": "57b9e425-f9ad-4b51-a97c-af60aa5963b9",
   "metadata": {
    "tags": []
   },
   "outputs": [],
   "source": [
    "def piekne_wykresy(samples, measure):\n",
    "    df_mean = []\n",
    "    for i in samples:\n",
    "        read_file = pd.read_csv(f'Popoolation1\\\\variance_sliding_{measure}\\{i}.{measure}', sep='\\t', header=None, names=['ref_chrom', \n",
    "                                                                                                                        'window_pos', \n",
    "                                                                                                                        'num_of_SNP',\n",
    "                                                                                                                        'coverage', \n",
    "                                                                                                                        f'measure_{measure}'])\n",
    "\n",
    "        #change na to NaN\n",
    "        read_file = read_file.replace('na', np.NaN)\n",
    "\n",
    "        #droping na values\n",
    "        read_file.dropna(inplace=True)\n",
    "\n",
    "        read_file[f'measure_{measure}'] = read_file[f'measure_{measure}'].astype(float)\n",
    "\n",
    "\n",
    "        mean = read_file[f'measure_{measure}'].mean()\n",
    "        name = i.split('_')[0]\n",
    "        df_mean.append([name, round(mean, 4)])\n",
    "\n",
    "    df_mean = pd.DataFrame(df_mean, columns=['sample', f'measure_{measure}'])\n",
    "    df_mean['type'] = df_mean['sample'].str[:2]\n",
    "    df_mean.set_index('sample', inplace=True)\n",
    "\n",
    "    return df_mean"
   ]
  },
  {
   "cell_type": "code",
   "execution_count": 4,
   "id": "5522d50d-d39a-47aa-9d1e-da8706382c0b",
   "metadata": {
    "tags": []
   },
   "outputs": [],
   "source": [
    "df_pi = piekne_wykresy(samples, 'pi')\n",
    "df_theta = piekne_wykresy(samples, 'theta')"
   ]
  },
  {
   "cell_type": "code",
   "execution_count": 5,
   "id": "b6783a4b-e95d-4f9f-abe3-14a76e7596ee",
   "metadata": {
    "tags": []
   },
   "outputs": [
    {
     "data": {
      "text/html": [
       "<div>\n",
       "<style scoped>\n",
       "    .dataframe tbody tr th:only-of-type {\n",
       "        vertical-align: middle;\n",
       "    }\n",
       "\n",
       "    .dataframe tbody tr th {\n",
       "        vertical-align: top;\n",
       "    }\n",
       "\n",
       "    .dataframe thead th {\n",
       "        text-align: right;\n",
       "    }\n",
       "</style>\n",
       "<table border=\"1\" class=\"dataframe\">\n",
       "  <thead>\n",
       "    <tr style=\"text-align: right;\">\n",
       "      <th></th>\n",
       "      <th>measure_pi</th>\n",
       "      <th>type</th>\n",
       "    </tr>\n",
       "    <tr>\n",
       "      <th>sample</th>\n",
       "      <th></th>\n",
       "      <th></th>\n",
       "    </tr>\n",
       "  </thead>\n",
       "  <tbody>\n",
       "    <tr>\n",
       "      <th>FN1</th>\n",
       "      <td>0.0133</td>\n",
       "      <td>FN</td>\n",
       "    </tr>\n",
       "    <tr>\n",
       "      <th>FN2</th>\n",
       "      <td>0.0142</td>\n",
       "      <td>FN</td>\n",
       "    </tr>\n",
       "    <tr>\n",
       "      <th>FN3</th>\n",
       "      <td>0.0129</td>\n",
       "      <td>FN</td>\n",
       "    </tr>\n",
       "    <tr>\n",
       "      <th>FN4</th>\n",
       "      <td>0.0150</td>\n",
       "      <td>FN</td>\n",
       "    </tr>\n",
       "    <tr>\n",
       "      <th>FW1</th>\n",
       "      <td>0.0111</td>\n",
       "      <td>FW</td>\n",
       "    </tr>\n",
       "    <tr>\n",
       "      <th>FW2</th>\n",
       "      <td>0.0132</td>\n",
       "      <td>FW</td>\n",
       "    </tr>\n",
       "    <tr>\n",
       "      <th>FW3</th>\n",
       "      <td>0.0123</td>\n",
       "      <td>FW</td>\n",
       "    </tr>\n",
       "    <tr>\n",
       "      <th>FW4</th>\n",
       "      <td>0.0119</td>\n",
       "      <td>FW</td>\n",
       "    </tr>\n",
       "  </tbody>\n",
       "</table>\n",
       "</div>"
      ],
      "text/plain": [
       "        measure_pi type\n",
       "sample                 \n",
       "FN1         0.0133   FN\n",
       "FN2         0.0142   FN\n",
       "FN3         0.0129   FN\n",
       "FN4         0.0150   FN\n",
       "FW1         0.0111   FW\n",
       "FW2         0.0132   FW\n",
       "FW3         0.0123   FW\n",
       "FW4         0.0119   FW"
      ]
     },
     "execution_count": 5,
     "metadata": {},
     "output_type": "execute_result"
    }
   ],
   "source": [
    "df_pi"
   ]
  },
  {
   "cell_type": "code",
   "execution_count": 6,
   "id": "fe0f406e-2694-4519-83aa-f6e75083ad8d",
   "metadata": {
    "tags": []
   },
   "outputs": [
    {
     "data": {
      "text/html": [
       "<div>\n",
       "<style scoped>\n",
       "    .dataframe tbody tr th:only-of-type {\n",
       "        vertical-align: middle;\n",
       "    }\n",
       "\n",
       "    .dataframe tbody tr th {\n",
       "        vertical-align: top;\n",
       "    }\n",
       "\n",
       "    .dataframe thead th {\n",
       "        text-align: right;\n",
       "    }\n",
       "</style>\n",
       "<table border=\"1\" class=\"dataframe\">\n",
       "  <thead>\n",
       "    <tr style=\"text-align: right;\">\n",
       "      <th></th>\n",
       "      <th>measure_theta</th>\n",
       "      <th>type</th>\n",
       "    </tr>\n",
       "    <tr>\n",
       "      <th>sample</th>\n",
       "      <th></th>\n",
       "      <th></th>\n",
       "    </tr>\n",
       "  </thead>\n",
       "  <tbody>\n",
       "    <tr>\n",
       "      <th>FN1</th>\n",
       "      <td>0.0124</td>\n",
       "      <td>FN</td>\n",
       "    </tr>\n",
       "    <tr>\n",
       "      <th>FN2</th>\n",
       "      <td>0.0136</td>\n",
       "      <td>FN</td>\n",
       "    </tr>\n",
       "    <tr>\n",
       "      <th>FN3</th>\n",
       "      <td>0.0123</td>\n",
       "      <td>FN</td>\n",
       "    </tr>\n",
       "    <tr>\n",
       "      <th>FN4</th>\n",
       "      <td>0.0143</td>\n",
       "      <td>FN</td>\n",
       "    </tr>\n",
       "    <tr>\n",
       "      <th>FW1</th>\n",
       "      <td>0.0105</td>\n",
       "      <td>FW</td>\n",
       "    </tr>\n",
       "    <tr>\n",
       "      <th>FW2</th>\n",
       "      <td>0.0128</td>\n",
       "      <td>FW</td>\n",
       "    </tr>\n",
       "    <tr>\n",
       "      <th>FW3</th>\n",
       "      <td>0.0116</td>\n",
       "      <td>FW</td>\n",
       "    </tr>\n",
       "    <tr>\n",
       "      <th>FW4</th>\n",
       "      <td>0.0112</td>\n",
       "      <td>FW</td>\n",
       "    </tr>\n",
       "  </tbody>\n",
       "</table>\n",
       "</div>"
      ],
      "text/plain": [
       "        measure_theta type\n",
       "sample                    \n",
       "FN1            0.0124   FN\n",
       "FN2            0.0136   FN\n",
       "FN3            0.0123   FN\n",
       "FN4            0.0143   FN\n",
       "FW1            0.0105   FW\n",
       "FW2            0.0128   FW\n",
       "FW3            0.0116   FW\n",
       "FW4            0.0112   FW"
      ]
     },
     "execution_count": 6,
     "metadata": {},
     "output_type": "execute_result"
    }
   ],
   "source": [
    "df_theta"
   ]
  },
  {
   "cell_type": "code",
   "execution_count": 6,
   "id": "e588bfb4-438f-4dc5-9e10-24f2944f667a",
   "metadata": {
    "tags": []
   },
   "outputs": [
    {
     "data": {
      "image/png": "[encoded data removed]",
      "text/plain": [
       "<Figure size 640x480 with 2 Axes>"
      ]
     },
     "metadata": {},
     "output_type": "display_data"
    }
   ],
   "source": [
    "#wizualizacja\n",
    "sns.set_theme(style=\"whitegrid\")\n",
    "sns.set_context(\"paper\")\n",
    "\n",
    "fig, ax= plt.subplots(nrows=1, ncols=2)\n",
    "\n",
    "sns.boxplot(data=df_pi, x=\"type\", y=\"measure_pi\", hue=\"type\", ax=ax[0])\n",
    "ax[0].set_title(\"Measure π\")\n",
    "ax[0].set_xlabel(\"\")\n",
    "ax[0].set_ylabel(\"π\")\n",
    "ax[0].legend([],[], frameon=False)\n",
    "ax[0].set(ylim=(0.01, 0.0155))\n",
    "\n",
    "sns.boxplot(data=df_theta, x=\"type\", y=\"measure_theta\", hue=\"type\", ax=ax[1])\n",
    "ax[1].set_title(\"Measure θ\")\n",
    "ax[1].set_xlabel(\"\")\n",
    "ax[1].set_ylabel(\"θ\")\n",
    "ax[1].legend([],[], frameon=False)\n",
    "ax[1].set(ylim=(0.01, 0.0155))\n",
    "\n",
    "fig.tight_layout()\n",
    "plt.show()\n",
    "fig.savefig(f'Popoolation1\\\\variance_sliding_pi_theta.png', dpi=500)\n"
   ]
  },
  {
   "cell_type": "code",
   "execution_count": 8,
   "id": "5b7542b9-5ef8-4ffa-a1e6-03d37c6adb93",
   "metadata": {
    "tags": []
   },
   "outputs": [
    {
     "name": "stdout",
     "output_type": "stream",
     "text": [
      "Statystyka t: 2.689218982191151\n",
      "P-wartość: 0.03609018057641862\n"
     ]
    }
   ],
   "source": [
    "#testy statystyczne\n",
    "\n",
    "grupy = df_pi.groupby('type')\n",
    "FN = grupy.get_group('FN')['measure_pi']\n",
    "FW = grupy.get_group('FW')['measure_pi']\n",
    "\n",
    "statystyka, p_wartosc = stats.ttest_ind(FN, FW)\n",
    "\n",
    "# Wyświetlenie wyników\n",
    "print(\"Statystyka t:\", statystyka)\n",
    "print(\"P-wartość:\", p_wartosc)\n"
   ]
  },
  {
   "cell_type": "code",
   "execution_count": 9,
   "id": "604124cf-465b-4a7b-99c5-812402e07696",
   "metadata": {
    "tags": []
   },
   "outputs": [
    {
     "name": "stdout",
     "output_type": "stream",
     "text": [
      "Statystyka t: 2.379287578076079\n",
      "P-wartość: 0.05482139175024648\n"
     ]
    }
   ],
   "source": [
    "#testy statystyczne\n",
    "\n",
    "grupy = df_theta.groupby('type')\n",
    "FN = grupy.get_group('FN')['measure_theta']\n",
    "FW = grupy.get_group('FW')['measure_theta']\n",
    "\n",
    "statystyka, p_wartosc = stats.ttest_ind(FN, FW)\n",
    "\n",
    "# Wyświetlenie wyników\n",
    "print(\"Statystyka t:\", statystyka)\n",
    "print(\"P-wartość:\", p_wartosc)"
   ]
  },
  {
   "cell_type": "code",
   "execution_count": null,
   "id": "68469edf-5102-4ca9-9810-2d7433f906b7",
   "metadata": {},
   "outputs": [],
   "source": []
  }
 ],
 "metadata": {
  "kernelspec": {
   "display_name": "Python 3 (ipykernel)",
   "language": "python",
   "name": "python3"
  },
  "language_info": {
   "codemirror_mode": {
    "name": "ipython",
    "version": 3
   },
   "file_extension": ".py",
   "mimetype": "text/x-python",
   "name": "python",
   "nbconvert_exporter": "python",
   "pygments_lexer": "ipython3",
   "version": "3.10.8"
  }
 },
 "nbformat": 4,
 "nbformat_minor": 5
}
